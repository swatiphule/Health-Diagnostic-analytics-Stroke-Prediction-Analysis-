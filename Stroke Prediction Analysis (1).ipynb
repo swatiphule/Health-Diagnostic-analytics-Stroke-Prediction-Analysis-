{
 "cells": [
  {
   "cell_type": "markdown",
   "id": "c3c22496",
   "metadata": {},
   "source": [
    "\n",
    "# Introduction to the project:\n",
    "Stroke is a medical condition that can lead to the death of a person. It’s a severe condition and if treated on time we can save one’s life and treat them well. There can be n number of factors that can lead to strokes and in this project blog, we will try to analyze a few of them. I have taken the dataset from Kaggle. It has 12 variables and 5110 observations."
   ]
  },
  {
   "cell_type": "markdown",
   "id": "0d8cd660",
   "metadata": {},
   "source": [
    "# Importing Libraries:\n"
   ]
  },
  {
   "cell_type": "code",
   "execution_count": 1,
   "id": "0efe0bf2",
   "metadata": {},
   "outputs": [
    {
     "name": "stderr",
     "output_type": "stream",
     "text": [
      "UsageError: unrecognized arguments: # used to show diagrams even if plt.show()is not called.\n"
     ]
    }
   ],
   "source": [
    "import pandas as pd\n",
    "import numpy as np\n",
    "import seaborn as sns\n",
    "import matplotlib.pyplot as plt\n",
    "%matplotlib inline # used to show diagrams even if plt.show()is not called.\n",
    "from matplotlib import cm\n",
    "from sklearn.preprocessing import OrdinalEncoder\n",
    "from sklearn.naive_bayes import GaussianNB\n",
    "from sklearn.tree import DecisionTreeClassifier as dtc\n",
    "from sklearn.ensemble import RandomForestClassifier\n",
    "from sklearn.neighbors import KNeighborsClassifier\n",
    "from sklearn.svm import SVC\n",
    "from sklearn.model_selection import train_test_split\n",
    "from sklearn.metrics import accuracy_score, f1_score,classification_report,precision_score,recall_score\n",
    "from imblearn.over_sampling import SMOTE\n",
    "from sklearn.metrics import confusion_matrix\n",
    "from sklearn.metrics import classification_report\n",
    "from sklearn.model_selection import cross_val_predict\n",
    "from sklearn.feature_selection import mutual_info_classif"
   ]
  },
  {
   "cell_type": "markdown",
   "id": "acab6a9a",
   "metadata": {},
   "source": [
    "# Importing Dataset:"
   ]
  },
  {
   "cell_type": "code",
   "execution_count": 2,
   "id": "59111a49",
   "metadata": {},
   "outputs": [
    {
     "data": {
      "text/html": [
       "<div>\n",
       "<style scoped>\n",
       "    .dataframe tbody tr th:only-of-type {\n",
       "        vertical-align: middle;\n",
       "    }\n",
       "\n",
       "    .dataframe tbody tr th {\n",
       "        vertical-align: top;\n",
       "    }\n",
       "\n",
       "    .dataframe thead th {\n",
       "        text-align: right;\n",
       "    }\n",
       "</style>\n",
       "<table border=\"1\" class=\"dataframe\">\n",
       "  <thead>\n",
       "    <tr style=\"text-align: right;\">\n",
       "      <th></th>\n",
       "      <th>id</th>\n",
       "      <th>gender</th>\n",
       "      <th>age</th>\n",
       "      <th>hypertension</th>\n",
       "      <th>heart_disease</th>\n",
       "      <th>ever_married</th>\n",
       "      <th>work_type</th>\n",
       "      <th>Residence_type</th>\n",
       "      <th>avg_glucose_level</th>\n",
       "      <th>bmi</th>\n",
       "      <th>smoking_status</th>\n",
       "      <th>stroke</th>\n",
       "    </tr>\n",
       "  </thead>\n",
       "  <tbody>\n",
       "    <tr>\n",
       "      <th>0</th>\n",
       "      <td>9046</td>\n",
       "      <td>Male</td>\n",
       "      <td>67.0</td>\n",
       "      <td>0</td>\n",
       "      <td>1</td>\n",
       "      <td>Yes</td>\n",
       "      <td>Private</td>\n",
       "      <td>Urban</td>\n",
       "      <td>228.69</td>\n",
       "      <td>36.6</td>\n",
       "      <td>formerly smoked</td>\n",
       "      <td>1</td>\n",
       "    </tr>\n",
       "    <tr>\n",
       "      <th>1</th>\n",
       "      <td>51676</td>\n",
       "      <td>Female</td>\n",
       "      <td>61.0</td>\n",
       "      <td>0</td>\n",
       "      <td>0</td>\n",
       "      <td>Yes</td>\n",
       "      <td>Self-employed</td>\n",
       "      <td>Rural</td>\n",
       "      <td>202.21</td>\n",
       "      <td>NaN</td>\n",
       "      <td>never smoked</td>\n",
       "      <td>1</td>\n",
       "    </tr>\n",
       "    <tr>\n",
       "      <th>2</th>\n",
       "      <td>31112</td>\n",
       "      <td>Male</td>\n",
       "      <td>80.0</td>\n",
       "      <td>0</td>\n",
       "      <td>1</td>\n",
       "      <td>Yes</td>\n",
       "      <td>Private</td>\n",
       "      <td>Rural</td>\n",
       "      <td>105.92</td>\n",
       "      <td>32.5</td>\n",
       "      <td>never smoked</td>\n",
       "      <td>1</td>\n",
       "    </tr>\n",
       "    <tr>\n",
       "      <th>3</th>\n",
       "      <td>60182</td>\n",
       "      <td>Female</td>\n",
       "      <td>49.0</td>\n",
       "      <td>0</td>\n",
       "      <td>0</td>\n",
       "      <td>Yes</td>\n",
       "      <td>Private</td>\n",
       "      <td>Urban</td>\n",
       "      <td>171.23</td>\n",
       "      <td>34.4</td>\n",
       "      <td>smokes</td>\n",
       "      <td>1</td>\n",
       "    </tr>\n",
       "    <tr>\n",
       "      <th>4</th>\n",
       "      <td>1665</td>\n",
       "      <td>Female</td>\n",
       "      <td>79.0</td>\n",
       "      <td>1</td>\n",
       "      <td>0</td>\n",
       "      <td>Yes</td>\n",
       "      <td>Self-employed</td>\n",
       "      <td>Rural</td>\n",
       "      <td>174.12</td>\n",
       "      <td>24.0</td>\n",
       "      <td>never smoked</td>\n",
       "      <td>1</td>\n",
       "    </tr>\n",
       "    <tr>\n",
       "      <th>...</th>\n",
       "      <td>...</td>\n",
       "      <td>...</td>\n",
       "      <td>...</td>\n",
       "      <td>...</td>\n",
       "      <td>...</td>\n",
       "      <td>...</td>\n",
       "      <td>...</td>\n",
       "      <td>...</td>\n",
       "      <td>...</td>\n",
       "      <td>...</td>\n",
       "      <td>...</td>\n",
       "      <td>...</td>\n",
       "    </tr>\n",
       "    <tr>\n",
       "      <th>5105</th>\n",
       "      <td>18234</td>\n",
       "      <td>Female</td>\n",
       "      <td>80.0</td>\n",
       "      <td>1</td>\n",
       "      <td>0</td>\n",
       "      <td>Yes</td>\n",
       "      <td>Private</td>\n",
       "      <td>Urban</td>\n",
       "      <td>83.75</td>\n",
       "      <td>NaN</td>\n",
       "      <td>never smoked</td>\n",
       "      <td>0</td>\n",
       "    </tr>\n",
       "    <tr>\n",
       "      <th>5106</th>\n",
       "      <td>44873</td>\n",
       "      <td>Female</td>\n",
       "      <td>81.0</td>\n",
       "      <td>0</td>\n",
       "      <td>0</td>\n",
       "      <td>Yes</td>\n",
       "      <td>Self-employed</td>\n",
       "      <td>Urban</td>\n",
       "      <td>125.20</td>\n",
       "      <td>40.0</td>\n",
       "      <td>never smoked</td>\n",
       "      <td>0</td>\n",
       "    </tr>\n",
       "    <tr>\n",
       "      <th>5107</th>\n",
       "      <td>19723</td>\n",
       "      <td>Female</td>\n",
       "      <td>35.0</td>\n",
       "      <td>0</td>\n",
       "      <td>0</td>\n",
       "      <td>Yes</td>\n",
       "      <td>Self-employed</td>\n",
       "      <td>Rural</td>\n",
       "      <td>82.99</td>\n",
       "      <td>30.6</td>\n",
       "      <td>never smoked</td>\n",
       "      <td>0</td>\n",
       "    </tr>\n",
       "    <tr>\n",
       "      <th>5108</th>\n",
       "      <td>37544</td>\n",
       "      <td>Male</td>\n",
       "      <td>51.0</td>\n",
       "      <td>0</td>\n",
       "      <td>0</td>\n",
       "      <td>Yes</td>\n",
       "      <td>Private</td>\n",
       "      <td>Rural</td>\n",
       "      <td>166.29</td>\n",
       "      <td>25.6</td>\n",
       "      <td>formerly smoked</td>\n",
       "      <td>0</td>\n",
       "    </tr>\n",
       "    <tr>\n",
       "      <th>5109</th>\n",
       "      <td>44679</td>\n",
       "      <td>Female</td>\n",
       "      <td>44.0</td>\n",
       "      <td>0</td>\n",
       "      <td>0</td>\n",
       "      <td>Yes</td>\n",
       "      <td>Govt_job</td>\n",
       "      <td>Urban</td>\n",
       "      <td>85.28</td>\n",
       "      <td>26.2</td>\n",
       "      <td>Unknown</td>\n",
       "      <td>0</td>\n",
       "    </tr>\n",
       "  </tbody>\n",
       "</table>\n",
       "<p>5110 rows × 12 columns</p>\n",
       "</div>"
      ],
      "text/plain": [
       "         id  gender   age  hypertension  heart_disease ever_married  \\\n",
       "0      9046    Male  67.0             0              1          Yes   \n",
       "1     51676  Female  61.0             0              0          Yes   \n",
       "2     31112    Male  80.0             0              1          Yes   \n",
       "3     60182  Female  49.0             0              0          Yes   \n",
       "4      1665  Female  79.0             1              0          Yes   \n",
       "...     ...     ...   ...           ...            ...          ...   \n",
       "5105  18234  Female  80.0             1              0          Yes   \n",
       "5106  44873  Female  81.0             0              0          Yes   \n",
       "5107  19723  Female  35.0             0              0          Yes   \n",
       "5108  37544    Male  51.0             0              0          Yes   \n",
       "5109  44679  Female  44.0             0              0          Yes   \n",
       "\n",
       "          work_type Residence_type  avg_glucose_level   bmi   smoking_status  \\\n",
       "0           Private          Urban             228.69  36.6  formerly smoked   \n",
       "1     Self-employed          Rural             202.21   NaN     never smoked   \n",
       "2           Private          Rural             105.92  32.5     never smoked   \n",
       "3           Private          Urban             171.23  34.4           smokes   \n",
       "4     Self-employed          Rural             174.12  24.0     never smoked   \n",
       "...             ...            ...                ...   ...              ...   \n",
       "5105        Private          Urban              83.75   NaN     never smoked   \n",
       "5106  Self-employed          Urban             125.20  40.0     never smoked   \n",
       "5107  Self-employed          Rural              82.99  30.6     never smoked   \n",
       "5108        Private          Rural             166.29  25.6  formerly smoked   \n",
       "5109       Govt_job          Urban              85.28  26.2          Unknown   \n",
       "\n",
       "      stroke  \n",
       "0          1  \n",
       "1          1  \n",
       "2          1  \n",
       "3          1  \n",
       "4          1  \n",
       "...      ...  \n",
       "5105       0  \n",
       "5106       0  \n",
       "5107       0  \n",
       "5108       0  \n",
       "5109       0  \n",
       "\n",
       "[5110 rows x 12 columns]"
      ]
     },
     "execution_count": 2,
     "metadata": {},
     "output_type": "execute_result"
    }
   ],
   "source": [
    "data = pd.read_csv('healthcare-dataset-stroke-data.csv')\n",
    "data"
   ]
  },
  {
   "cell_type": "code",
   "execution_count": 3,
   "id": "9b269da8",
   "metadata": {},
   "outputs": [
    {
     "data": {
      "text/plain": [
       "Index(['id', 'gender', 'age', 'hypertension', 'heart_disease', 'ever_married',\n",
       "       'work_type', 'Residence_type', 'avg_glucose_level', 'bmi',\n",
       "       'smoking_status', 'stroke'],\n",
       "      dtype='object')"
      ]
     },
     "execution_count": 3,
     "metadata": {},
     "output_type": "execute_result"
    }
   ],
   "source": [
    "#Below code gives the names of columns in dataset \n",
    "data.columns"
   ]
  },
  {
   "cell_type": "code",
   "execution_count": 4,
   "id": "fbf51839",
   "metadata": {},
   "outputs": [
    {
     "name": "stdout",
     "output_type": "stream",
     "text": [
      "<class 'pandas.core.frame.DataFrame'>\n",
      "RangeIndex: 5110 entries, 0 to 5109\n",
      "Data columns (total 12 columns):\n",
      " #   Column             Non-Null Count  Dtype  \n",
      "---  ------             --------------  -----  \n",
      " 0   id                 5110 non-null   int64  \n",
      " 1   gender             5110 non-null   object \n",
      " 2   age                5110 non-null   float64\n",
      " 3   hypertension       5110 non-null   int64  \n",
      " 4   heart_disease      5110 non-null   int64  \n",
      " 5   ever_married       5110 non-null   object \n",
      " 6   work_type          5110 non-null   object \n",
      " 7   Residence_type     5110 non-null   object \n",
      " 8   avg_glucose_level  5110 non-null   float64\n",
      " 9   bmi                4909 non-null   float64\n",
      " 10  smoking_status     5110 non-null   object \n",
      " 11  stroke             5110 non-null   int64  \n",
      "dtypes: float64(3), int64(4), object(5)\n",
      "memory usage: 479.2+ KB\n"
     ]
    }
   ],
   "source": [
    "#Below code will give information about each columns.\n",
    "data.info()"
   ]
  },
  {
   "cell_type": "code",
   "execution_count": 5,
   "id": "47518e90",
   "metadata": {},
   "outputs": [
    {
     "data": {
      "text/html": [
       "<div>\n",
       "<style scoped>\n",
       "    .dataframe tbody tr th:only-of-type {\n",
       "        vertical-align: middle;\n",
       "    }\n",
       "\n",
       "    .dataframe tbody tr th {\n",
       "        vertical-align: top;\n",
       "    }\n",
       "\n",
       "    .dataframe thead th {\n",
       "        text-align: right;\n",
       "    }\n",
       "</style>\n",
       "<table border=\"1\" class=\"dataframe\">\n",
       "  <thead>\n",
       "    <tr style=\"text-align: right;\">\n",
       "      <th></th>\n",
       "      <th>count</th>\n",
       "      <th>mean</th>\n",
       "      <th>std</th>\n",
       "      <th>min</th>\n",
       "      <th>25%</th>\n",
       "      <th>50%</th>\n",
       "      <th>75%</th>\n",
       "      <th>max</th>\n",
       "    </tr>\n",
       "  </thead>\n",
       "  <tbody>\n",
       "    <tr>\n",
       "      <th>id</th>\n",
       "      <td>5110.0</td>\n",
       "      <td>36517.829354</td>\n",
       "      <td>21161.721625</td>\n",
       "      <td>67.00</td>\n",
       "      <td>17741.250</td>\n",
       "      <td>36932.000</td>\n",
       "      <td>54682.00</td>\n",
       "      <td>72940.00</td>\n",
       "    </tr>\n",
       "    <tr>\n",
       "      <th>age</th>\n",
       "      <td>5110.0</td>\n",
       "      <td>43.226614</td>\n",
       "      <td>22.612647</td>\n",
       "      <td>0.08</td>\n",
       "      <td>25.000</td>\n",
       "      <td>45.000</td>\n",
       "      <td>61.00</td>\n",
       "      <td>82.00</td>\n",
       "    </tr>\n",
       "    <tr>\n",
       "      <th>hypertension</th>\n",
       "      <td>5110.0</td>\n",
       "      <td>0.097456</td>\n",
       "      <td>0.296607</td>\n",
       "      <td>0.00</td>\n",
       "      <td>0.000</td>\n",
       "      <td>0.000</td>\n",
       "      <td>0.00</td>\n",
       "      <td>1.00</td>\n",
       "    </tr>\n",
       "    <tr>\n",
       "      <th>heart_disease</th>\n",
       "      <td>5110.0</td>\n",
       "      <td>0.054012</td>\n",
       "      <td>0.226063</td>\n",
       "      <td>0.00</td>\n",
       "      <td>0.000</td>\n",
       "      <td>0.000</td>\n",
       "      <td>0.00</td>\n",
       "      <td>1.00</td>\n",
       "    </tr>\n",
       "    <tr>\n",
       "      <th>avg_glucose_level</th>\n",
       "      <td>5110.0</td>\n",
       "      <td>106.147677</td>\n",
       "      <td>45.283560</td>\n",
       "      <td>55.12</td>\n",
       "      <td>77.245</td>\n",
       "      <td>91.885</td>\n",
       "      <td>114.09</td>\n",
       "      <td>271.74</td>\n",
       "    </tr>\n",
       "    <tr>\n",
       "      <th>bmi</th>\n",
       "      <td>4909.0</td>\n",
       "      <td>28.893237</td>\n",
       "      <td>7.854067</td>\n",
       "      <td>10.30</td>\n",
       "      <td>23.500</td>\n",
       "      <td>28.100</td>\n",
       "      <td>33.10</td>\n",
       "      <td>97.60</td>\n",
       "    </tr>\n",
       "    <tr>\n",
       "      <th>stroke</th>\n",
       "      <td>5110.0</td>\n",
       "      <td>0.048728</td>\n",
       "      <td>0.215320</td>\n",
       "      <td>0.00</td>\n",
       "      <td>0.000</td>\n",
       "      <td>0.000</td>\n",
       "      <td>0.00</td>\n",
       "      <td>1.00</td>\n",
       "    </tr>\n",
       "  </tbody>\n",
       "</table>\n",
       "</div>"
      ],
      "text/plain": [
       "                    count          mean           std    min        25%  \\\n",
       "id                 5110.0  36517.829354  21161.721625  67.00  17741.250   \n",
       "age                5110.0     43.226614     22.612647   0.08     25.000   \n",
       "hypertension       5110.0      0.097456      0.296607   0.00      0.000   \n",
       "heart_disease      5110.0      0.054012      0.226063   0.00      0.000   \n",
       "avg_glucose_level  5110.0    106.147677     45.283560  55.12     77.245   \n",
       "bmi                4909.0     28.893237      7.854067  10.30     23.500   \n",
       "stroke             5110.0      0.048728      0.215320   0.00      0.000   \n",
       "\n",
       "                         50%       75%       max  \n",
       "id                 36932.000  54682.00  72940.00  \n",
       "age                   45.000     61.00     82.00  \n",
       "hypertension           0.000      0.00      1.00  \n",
       "heart_disease          0.000      0.00      1.00  \n",
       "avg_glucose_level     91.885    114.09    271.74  \n",
       "bmi                   28.100     33.10     97.60  \n",
       "stroke                 0.000      0.00      1.00  "
      ]
     },
     "execution_count": 5,
     "metadata": {},
     "output_type": "execute_result"
    }
   ],
   "source": [
    "#Below code will give information about the numeric variables \n",
    "data.describe().transpose()"
   ]
  },
  {
   "cell_type": "code",
   "execution_count": 6,
   "id": "4cf733d2",
   "metadata": {},
   "outputs": [
    {
     "data": {
      "text/html": [
       "<div>\n",
       "<style scoped>\n",
       "    .dataframe tbody tr th:only-of-type {\n",
       "        vertical-align: middle;\n",
       "    }\n",
       "\n",
       "    .dataframe tbody tr th {\n",
       "        vertical-align: top;\n",
       "    }\n",
       "\n",
       "    .dataframe thead th {\n",
       "        text-align: right;\n",
       "    }\n",
       "</style>\n",
       "<table border=\"1\" class=\"dataframe\">\n",
       "  <thead>\n",
       "    <tr style=\"text-align: right;\">\n",
       "      <th></th>\n",
       "      <th>count</th>\n",
       "      <th>unique</th>\n",
       "      <th>top</th>\n",
       "      <th>freq</th>\n",
       "    </tr>\n",
       "  </thead>\n",
       "  <tbody>\n",
       "    <tr>\n",
       "      <th>gender</th>\n",
       "      <td>5110</td>\n",
       "      <td>3</td>\n",
       "      <td>Female</td>\n",
       "      <td>2994</td>\n",
       "    </tr>\n",
       "    <tr>\n",
       "      <th>ever_married</th>\n",
       "      <td>5110</td>\n",
       "      <td>2</td>\n",
       "      <td>Yes</td>\n",
       "      <td>3353</td>\n",
       "    </tr>\n",
       "    <tr>\n",
       "      <th>work_type</th>\n",
       "      <td>5110</td>\n",
       "      <td>5</td>\n",
       "      <td>Private</td>\n",
       "      <td>2925</td>\n",
       "    </tr>\n",
       "    <tr>\n",
       "      <th>Residence_type</th>\n",
       "      <td>5110</td>\n",
       "      <td>2</td>\n",
       "      <td>Urban</td>\n",
       "      <td>2596</td>\n",
       "    </tr>\n",
       "    <tr>\n",
       "      <th>smoking_status</th>\n",
       "      <td>5110</td>\n",
       "      <td>4</td>\n",
       "      <td>never smoked</td>\n",
       "      <td>1892</td>\n",
       "    </tr>\n",
       "  </tbody>\n",
       "</table>\n",
       "</div>"
      ],
      "text/plain": [
       "               count unique           top  freq\n",
       "gender          5110      3        Female  2994\n",
       "ever_married    5110      2           Yes  3353\n",
       "work_type       5110      5       Private  2925\n",
       "Residence_type  5110      2         Urban  2596\n",
       "smoking_status  5110      4  never smoked  1892"
      ]
     },
     "execution_count": 6,
     "metadata": {},
     "output_type": "execute_result"
    }
   ],
   "source": [
    "#Below code will give details of object variables\n",
    "data.describe(include=object).transpose()"
   ]
  },
  {
   "cell_type": "markdown",
   "id": "2d63f730",
   "metadata": {},
   "source": [
    "# Exploratory Data Analysis(EDA):"
   ]
  },
  {
   "cell_type": "code",
   "execution_count": 7,
   "id": "cd7c3c0c",
   "metadata": {},
   "outputs": [
    {
     "data": {
      "text/plain": [
       "id                     0\n",
       "gender                 0\n",
       "age                    0\n",
       "hypertension           0\n",
       "heart_disease          0\n",
       "ever_married           0\n",
       "work_type              0\n",
       "Residence_type         0\n",
       "avg_glucose_level      0\n",
       "bmi                  201\n",
       "smoking_status         0\n",
       "stroke                 0\n",
       "dtype: int64"
      ]
     },
     "execution_count": 7,
     "metadata": {},
     "output_type": "execute_result"
    }
   ],
   "source": [
    "#Below code will give the number of null values in data\n",
    "data.isnull().sum()"
   ]
  },
  {
   "cell_type": "code",
   "execution_count": 8,
   "id": "7a2f4e85",
   "metadata": {},
   "outputs": [
    {
     "name": "stdout",
     "output_type": "stream",
     "text": [
      "male mean bmi: 28.64794 \n",
      "female mean bmi: 29.06576 \n"
     ]
    }
   ],
   "source": [
    "#calculating mean of male and female\n",
    "male_mean_bmi = data[data[\"gender\"]==\"Male\"][\"bmi\"].mean()\n",
    "female_mean_bmi = data[data[\"gender\"]==\"Female\"][\"bmi\"].mean()\n",
    "print(\"male mean bmi: %1.5f \" %male_mean_bmi)\n",
    "print(\"female mean bmi: %1.5f \" %female_mean_bmi)"
   ]
  },
  {
   "cell_type": "code",
   "execution_count": 9,
   "id": "92ef9883",
   "metadata": {},
   "outputs": [],
   "source": [
    "#fill missing value with mean value\n",
    "data.loc[(data[\"gender\"]==\"Male\") & (data[\"bmi\"].isnull()), \"bmi\"]= male_mean_bmi\n",
    "data.loc[(data[\"gender\"]==\"Female\") & (data[\"bmi\"].isnull()), \"bmi\"]= female_mean_bmi"
   ]
  },
  {
   "cell_type": "code",
   "execution_count": 10,
   "id": "0215483e",
   "metadata": {},
   "outputs": [
    {
     "data": {
      "text/plain": [
       "id                   0\n",
       "gender               0\n",
       "age                  0\n",
       "hypertension         0\n",
       "heart_disease        0\n",
       "ever_married         0\n",
       "work_type            0\n",
       "Residence_type       0\n",
       "avg_glucose_level    0\n",
       "bmi                  0\n",
       "smoking_status       0\n",
       "stroke               0\n",
       "dtype: int64"
      ]
     },
     "execution_count": 10,
     "metadata": {},
     "output_type": "execute_result"
    }
   ],
   "source": [
    "data.isnull().sum()"
   ]
  },
  {
   "cell_type": "markdown",
   "id": "38b61e94",
   "metadata": {},
   "source": [
    "# Gender :\n",
    "We will see genderwise comparison for stroke rate."
   ]
  },
  {
   "cell_type": "code",
   "execution_count": 11,
   "id": "77ddd986",
   "metadata": {},
   "outputs": [
    {
     "name": "stdout",
     "output_type": "stream",
     "text": [
      "Unique values:\n",
      " ['Male' 'Female' 'Other']\n"
     ]
    }
   ],
   "source": [
    "# Below code will help to give us information about it's unique values and count of each value.\n",
    "print('Unique values:\\n',data['gender'].unique())\n"
   ]
  },
  {
   "cell_type": "code",
   "execution_count": 12,
   "id": "63e42fd8",
   "metadata": {},
   "outputs": [
    {
     "name": "stdout",
     "output_type": "stream",
     "text": [
      "Value Counts:\n",
      " Female    2994\n",
      "Male      2115\n",
      "Other        1\n",
      "Name: gender, dtype: int64\n"
     ]
    }
   ],
   "source": [
    "#prints values of gender column\n",
    "print('Value Counts:\\n',data['gender'].value_counts())"
   ]
  },
  {
   "cell_type": "code",
   "execution_count": 13,
   "id": "c3fca64b",
   "metadata": {},
   "outputs": [
    {
     "name": "stderr",
     "output_type": "stream",
     "text": [
      "C:\\Users\\Admin\\anaconda3\\lib\\site-packages\\seaborn\\_decorators.py:36: FutureWarning: Pass the following variable as a keyword arg: x. From version 0.12, the only valid positional argument will be `data`, and passing other arguments without an explicit keyword will result in an error or misinterpretation.\n",
      "  warnings.warn(\n"
     ]
    },
    {
     "data": {
      "image/png": "[encoded data removed]",
      "text/plain": [
       "<Figure size 432x288 with 1 Axes>"
      ]
     },
     "metadata": {
      "needs_background": "light"
     },
     "output_type": "display_data"
    }
   ],
   "source": [
    "# this code will give graphical representation of unique values of gender\n",
    "sns.countplot(data['gender'], label=\"Count\")\n",
    "plt.show()"
   ]
  },
  {
   "cell_type": "code",
   "execution_count": 14,
   "id": "8d16f8a7",
   "metadata": {},
   "outputs": [
    {
     "data": {
      "text/plain": [
       "<AxesSubplot:xlabel='gender', ylabel='count'>"
      ]
     },
     "execution_count": 14,
     "metadata": {},
     "output_type": "execute_result"
    },
    {
     "data": {
      "image/png": "[encoded data removed]",
      "text/plain": [
       "<Figure size 432x288 with 1 Axes>"
      ]
     },
     "metadata": {
      "needs_background": "light"
     },
     "output_type": "display_data"
    }
   ],
   "source": [
    "# This plot will help to analyze how gender will affect chances of stroke\n",
    "sns.countplot(data=data,x='gender',hue='stroke')"
   ]
  },
  {
   "cell_type": "markdown",
   "id": "6bd8bcaf",
   "metadata": {},
   "source": [
    "#Observations:\n",
    "\n",
    "Here we can see that dataset is imbalanced. we can conclude that there is not much difference in the stroke rate on the basis of gender"
   ]
  },
  {
   "cell_type": "markdown",
   "id": "4c59baf8",
   "metadata": {},
   "source": [
    "# Age :\n",
    "we will see how age impacts stroke rate."
   ]
  },
  {
   "cell_type": "code",
   "execution_count": 15,
   "id": "21c35377",
   "metadata": {},
   "outputs": [
    {
     "data": {
      "text/plain": [
       "104"
      ]
     },
     "execution_count": 15,
     "metadata": {},
     "output_type": "execute_result"
    }
   ],
   "source": [
    "data['age'].nunique()\n",
    "# Returns number of unique values in this attribute"
   ]
  },
  {
   "cell_type": "code",
   "execution_count": 16,
   "id": "2b76be18",
   "metadata": {},
   "outputs": [
    {
     "name": "stderr",
     "output_type": "stream",
     "text": [
      "C:\\Users\\Admin\\anaconda3\\lib\\site-packages\\seaborn\\distributions.py:2619: FutureWarning: `distplot` is a deprecated function and will be removed in a future version. Please adapt your code to use either `displot` (a figure-level function with similar flexibility) or `histplot` (an axes-level function for histograms).\n",
      "  warnings.warn(msg, FutureWarning)\n"
     ]
    },
    {
     "data": {
      "text/plain": [
       "<AxesSubplot:xlabel='age', ylabel='Density'>"
      ]
     },
     "execution_count": 16,
     "metadata": {},
     "output_type": "execute_result"
    },
    {
     "data": {
      "image/png": "[encoded data removed]",
      "text/plain": [
       "<Figure size 432x288 with 1 Axes>"
      ]
     },
     "metadata": {
      "needs_background": "light"
     },
     "output_type": "display_data"
    }
   ],
   "source": [
    "sns.distplot(data.age)\n",
    "# This will plot a  univariate distribution of age"
   ]
  },
  {
   "cell_type": "code",
   "execution_count": 17,
   "id": "791cd6ce",
   "metadata": {},
   "outputs": [
    {
     "data": {
      "text/plain": [
       "<AxesSubplot:xlabel='stroke', ylabel='age'>"
      ]
     },
     "execution_count": 17,
     "metadata": {},
     "output_type": "execute_result"
    },
    {
     "data": {
      "image/png": "[encoded data removed]",
      "text/plain": [
       "<Figure size 1080x504 with 1 Axes>"
      ]
     },
     "metadata": {
      "needs_background": "light"
     },
     "output_type": "display_data"
    }
   ],
   "source": [
    "plt.figure(figsize=(15,7))\n",
    "sns.boxplot(data=data,x='stroke',y='age')\n",
    "# Above code will plot a boxplot of variable age with respect of target attribute stroke"
   ]
  },
  {
   "cell_type": "markdown",
   "id": "7df3a0d8",
   "metadata": {},
   "source": [
    "#Observation:\n",
    "\n",
    "People aged more than 60 years tend to have a stroke. Some outliers can be seen as people below age 20 \n",
    "are having a stroke it might be possible that it’s valid data as stroke also depends on our eating and living habits.\n",
    "Another observation is people not having strokes also consist of people age > 60 years."
   ]
  },
  {
   "cell_type": "markdown",
   "id": "7f4d1d4c",
   "metadata": {},
   "source": [
    "# Hypertension :\n",
    "Hypertension is a condition when a person has high blood pressure. Hypertension might result in a stroke. We will see how it goes."
   ]
  },
  {
   "cell_type": "code",
   "execution_count": 18,
   "id": "2882087b",
   "metadata": {},
   "outputs": [
    {
     "data": {
      "text/plain": [
       "2"
      ]
     },
     "execution_count": 18,
     "metadata": {},
     "output_type": "execute_result"
    }
   ],
   "source": [
    "data['hypertension'].nunique()\n",
    "# Returns number of unique values in this attribute"
   ]
  },
  {
   "cell_type": "code",
   "execution_count": 19,
   "id": "e08a1f88",
   "metadata": {},
   "outputs": [
    {
     "data": {
      "text/plain": [
       "<AxesSubplot:xlabel='hypertension', ylabel='count'>"
      ]
     },
     "execution_count": 19,
     "metadata": {},
     "output_type": "execute_result"
    },
    {
     "data": {
      "image/png": "[encoded data removed]",
      "text/plain": [
       "<Figure size 432x288 with 1 Axes>"
      ]
     },
     "metadata": {
      "needs_background": "light"
     },
     "output_type": "display_data"
    }
   ],
   "source": [
    "sns.countplot(data=data,x='hypertension',hue='stroke')"
   ]
  },
  {
   "cell_type": "code",
   "execution_count": 20,
   "id": "ad99b457",
   "metadata": {},
   "outputs": [
    {
     "data": {
      "text/plain": [
       "<AxesSubplot:xlabel='stroke', ylabel='hypertension'>"
      ]
     },
     "execution_count": 20,
     "metadata": {},
     "output_type": "execute_result"
    },
    {
     "data": {
      "image/png": "[encoded data removed]",
      "text/plain": [
       "<Figure size 432x288 with 1 Axes>"
      ]
     },
     "metadata": {
      "needs_background": "light"
     },
     "output_type": "display_data"
    }
   ],
   "source": [
    "#plt.figure(figsize=(15,7))\n",
    "sns.boxplot(data=data,x='stroke',y='hypertension')\n",
    "# Above code will plot a boxplot of variable age with respect of target attribute stroke"
   ]
  },
  {
   "cell_type": "markdown",
   "id": "913e26a6",
   "metadata": {},
   "source": [
    "#Observation:\n",
    "\n",
    "Well, hypertension is rare in young people and common in aged people.\n",
    "Hypertension can cause a stroke. Based on our data picture is not that clear for hypertension.\n",
    "It has quite little data on patients having hypertension."
   ]
  },
  {
   "cell_type": "markdown",
   "id": "5055ca51",
   "metadata": {},
   "source": [
    "# Ever_married :\n",
    "This attribute will tell us whether or not the patient was ever married. Let’s see how will it affect the chances of having a stroke."
   ]
  },
  {
   "cell_type": "code",
   "execution_count": 21,
   "id": "5b768b41",
   "metadata": {},
   "outputs": [
    {
     "data": {
      "text/plain": [
       "2"
      ]
     },
     "execution_count": 21,
     "metadata": {},
     "output_type": "execute_result"
    }
   ],
   "source": [
    "data['ever_married'].nunique()\n",
    "# Returns number of unique values in this attribute"
   ]
  },
  {
   "cell_type": "code",
   "execution_count": 22,
   "id": "32ce142a",
   "metadata": {},
   "outputs": [
    {
     "name": "stderr",
     "output_type": "stream",
     "text": [
      "C:\\Users\\Admin\\anaconda3\\lib\\site-packages\\seaborn\\_decorators.py:36: FutureWarning: Pass the following variable as a keyword arg: x. From version 0.12, the only valid positional argument will be `data`, and passing other arguments without an explicit keyword will result in an error or misinterpretation.\n",
      "  warnings.warn(\n"
     ]
    },
    {
     "data": {
      "image/png": "[encoded data removed]",
      "text/plain": [
       "<Figure size 432x288 with 1 Axes>"
      ]
     },
     "metadata": {
      "needs_background": "light"
     },
     "output_type": "display_data"
    }
   ],
   "source": [
    "sns.countplot(data['ever_married'], label=\"Count\")\n",
    "plt.show()"
   ]
  },
  {
   "cell_type": "code",
   "execution_count": 23,
   "id": "38a89b0d",
   "metadata": {},
   "outputs": [
    {
     "data": {
      "text/plain": [
       "<AxesSubplot:xlabel='ever_married', ylabel='count'>"
      ]
     },
     "execution_count": 23,
     "metadata": {},
     "output_type": "execute_result"
    },
    {
     "data": {
      "image/png": "[encoded data removed]",
      "text/plain": [
       "<Figure size 432x288 with 1 Axes>"
      ]
     },
     "metadata": {
      "needs_background": "light"
     },
     "output_type": "display_data"
    }
   ],
   "source": [
    "sns.countplot(data=data,x='ever_married',hue='stroke')"
   ]
  },
  {
   "cell_type": "code",
   "execution_count": 24,
   "id": "857de399",
   "metadata": {},
   "outputs": [
    {
     "data": {
      "text/plain": [
       "<AxesSubplot:xlabel='stroke', ylabel='ever_married'>"
      ]
     },
     "execution_count": 24,
     "metadata": {},
     "output_type": "execute_result"
    },
    {
     "data": {
      "image/png": "[encoded data removed]",
      "text/plain": [
       "<Figure size 1224x504 with 1 Axes>"
      ]
     },
     "metadata": {
      "needs_background": "light"
     },
     "output_type": "display_data"
    }
   ],
   "source": [
    "plt.figure(figsize=(17,7))\n",
    "sns.boxplot(data=data,x='stroke',y='ever_married')\n",
    "# Above code will plot a boxplot of variable age with respect of target attribute stroke"
   ]
  },
  {
   "cell_type": "markdown",
   "id": "2fce04ae",
   "metadata": {},
   "source": [
    "#Observation:\n",
    "\n",
    "People who are married have a higher stroke rate."
   ]
  },
  {
   "cell_type": "markdown",
   "id": "e060bfa1",
   "metadata": {},
   "source": [
    "# Work_Type:\n",
    "This attribute contains data about what kind of work does the patient. Different kinds of work have different kinds of problems and challenges which can be the possible reason for excitement, thrill, stress, etc. Stress is never good for health, let’s see how this variable can affect the chances of having a stroke."
   ]
  },
  {
   "cell_type": "code",
   "execution_count": 25,
   "id": "c9ab7820",
   "metadata": {},
   "outputs": [
    {
     "name": "stderr",
     "output_type": "stream",
     "text": [
      "C:\\Users\\Admin\\anaconda3\\lib\\site-packages\\seaborn\\_decorators.py:36: FutureWarning: Pass the following variable as a keyword arg: x. From version 0.12, the only valid positional argument will be `data`, and passing other arguments without an explicit keyword will result in an error or misinterpretation.\n",
      "  warnings.warn(\n"
     ]
    },
    {
     "data": {
      "image/png": "[encoded data removed]",
      "text/plain": [
       "<Figure size 432x288 with 1 Axes>"
      ]
     },
     "metadata": {
      "needs_background": "light"
     },
     "output_type": "display_data"
    }
   ],
   "source": [
    "sns.countplot(data['work_type'], label=\"Count\")\n",
    "plt.show()"
   ]
  },
  {
   "cell_type": "code",
   "execution_count": 26,
   "id": "acd83a3f",
   "metadata": {},
   "outputs": [
    {
     "data": {
      "text/plain": [
       "<AxesSubplot:xlabel='work_type', ylabel='count'>"
      ]
     },
     "execution_count": 26,
     "metadata": {},
     "output_type": "execute_result"
    },
    {
     "data": {
      "image/png": "[encoded data removed]",
      "text/plain": [
       "<Figure size 432x288 with 1 Axes>"
      ]
     },
     "metadata": {
      "needs_background": "light"
     },
     "output_type": "display_data"
    }
   ],
   "source": [
    "sns.countplot(data=data,x='work_type',hue='stroke')"
   ]
  },
  {
   "cell_type": "markdown",
   "id": "c7c37d85",
   "metadata": {},
   "source": [
    "Observation:\n",
    "\n",
    "People working in the Private sector have a higher risk of getting a stroke. And people who have never worked have a very less stroke rate."
   ]
  },
  {
   "cell_type": "markdown",
   "id": "80636235",
   "metadata": {},
   "source": [
    "# Residence_Type :\n",
    "\n",
    "This attribute tells us whether what kind of residence the patient is. It can be Urban or Rural."
   ]
  },
  {
   "cell_type": "code",
   "execution_count": 27,
   "id": "a8a4d7b7",
   "metadata": {},
   "outputs": [
    {
     "name": "stderr",
     "output_type": "stream",
     "text": [
      "C:\\Users\\Admin\\anaconda3\\lib\\site-packages\\seaborn\\_decorators.py:36: FutureWarning: Pass the following variable as a keyword arg: x. From version 0.12, the only valid positional argument will be `data`, and passing other arguments without an explicit keyword will result in an error or misinterpretation.\n",
      "  warnings.warn(\n"
     ]
    },
    {
     "data": {
      "image/png": "[encoded data removed]",
      "text/plain": [
       "<Figure size 432x288 with 1 Axes>"
      ]
     },
     "metadata": {
      "needs_background": "light"
     },
     "output_type": "display_data"
    }
   ],
   "source": [
    "sns.countplot(data['Residence_type'], label=\"Count\")\n",
    "plt.show()"
   ]
  },
  {
   "cell_type": "code",
   "execution_count": 28,
   "id": "ad83d03d",
   "metadata": {},
   "outputs": [
    {
     "data": {
      "text/plain": [
       "<AxesSubplot:xlabel='Residence_type', ylabel='count'>"
      ]
     },
     "execution_count": 28,
     "metadata": {},
     "output_type": "execute_result"
    },
    {
     "data": {
      "image/png": "[encoded data removed]",
      "text/plain": [
       "<Figure size 432x288 with 1 Axes>"
      ]
     },
     "metadata": {
      "needs_background": "light"
     },
     "output_type": "display_data"
    }
   ],
   "source": [
    "sns.countplot(data=data,x='Residence_type',hue='stroke')"
   ]
  },
  {
   "cell_type": "markdown",
   "id": "79ac95f4",
   "metadata": {},
   "source": [
    "#Observation:\n",
    "\n",
    "This attribute is of no use. As we can see there not much difference in both attribute values. Maybe we have to discard it."
   ]
  },
  {
   "cell_type": "markdown",
   "id": "fb61902c",
   "metadata": {},
   "source": [
    "# Smoking_Status :\n",
    "These attributes tell us whether or not the patient smokes. Smoking is injurious to health and may cause cardiac disease. Let’s see how it turns out in the case of our data."
   ]
  },
  {
   "cell_type": "code",
   "execution_count": 29,
   "id": "312f9412",
   "metadata": {},
   "outputs": [
    {
     "name": "stderr",
     "output_type": "stream",
     "text": [
      "C:\\Users\\Admin\\anaconda3\\lib\\site-packages\\seaborn\\_decorators.py:36: FutureWarning: Pass the following variable as a keyword arg: x. From version 0.12, the only valid positional argument will be `data`, and passing other arguments without an explicit keyword will result in an error or misinterpretation.\n",
      "  warnings.warn(\n"
     ]
    },
    {
     "data": {
      "image/png": "[encoded data removed]",
      "text/plain": [
       "<Figure size 432x288 with 1 Axes>"
      ]
     },
     "metadata": {
      "needs_background": "light"
     },
     "output_type": "display_data"
    }
   ],
   "source": [
    "sns.countplot(data['smoking_status'], label=\"Count\")\n",
    "plt.show()"
   ]
  },
  {
   "cell_type": "code",
   "execution_count": 30,
   "id": "cf8b4b1d",
   "metadata": {},
   "outputs": [
    {
     "data": {
      "text/plain": [
       "<AxesSubplot:xlabel='smoking_status', ylabel='count'>"
      ]
     },
     "execution_count": 30,
     "metadata": {},
     "output_type": "execute_result"
    },
    {
     "data": {
      "image/png": "[encoded data removed]",
      "text/plain": [
       "<Figure size 432x288 with 1 Axes>"
      ]
     },
     "metadata": {
      "needs_background": "light"
     },
     "output_type": "display_data"
    }
   ],
   "source": [
    "sns.countplot(data=data,x='smoking_status',hue='stroke')"
   ]
  },
  {
   "cell_type": "markdown",
   "id": "97864fe5",
   "metadata": {},
   "source": [
    "Observation:\n",
    "\n",
    "As per these plots, we can see there is not much difference in the chances of stroke irrespective of smoking status."
   ]
  },
  {
   "cell_type": "markdown",
   "id": "9ca441c4",
   "metadata": {},
   "source": [
    "# Average Glucose Level :\n",
    "Tells about the average glucose level in the patient’s body. Let’s see whether this affects the chances of having a stroke"
   ]
  },
  {
   "cell_type": "code",
   "execution_count": 31,
   "id": "850e02c3",
   "metadata": {},
   "outputs": [
    {
     "data": {
      "text/plain": [
       "3979"
      ]
     },
     "execution_count": 31,
     "metadata": {},
     "output_type": "execute_result"
    }
   ],
   "source": [
    "data['avg_glucose_level'].nunique()\n",
    "# Number of unique values"
   ]
  },
  {
   "cell_type": "code",
   "execution_count": 32,
   "id": "808451a0",
   "metadata": {},
   "outputs": [
    {
     "name": "stderr",
     "output_type": "stream",
     "text": [
      "C:\\Users\\Admin\\anaconda3\\lib\\site-packages\\seaborn\\distributions.py:2619: FutureWarning: `distplot` is a deprecated function and will be removed in a future version. Please adapt your code to use either `displot` (a figure-level function with similar flexibility) or `histplot` (an axes-level function for histograms).\n",
      "  warnings.warn(msg, FutureWarning)\n"
     ]
    },
    {
     "data": {
      "text/plain": [
       "<AxesSubplot:xlabel='avg_glucose_level', ylabel='Density'>"
      ]
     },
     "execution_count": 32,
     "metadata": {},
     "output_type": "execute_result"
    },
    {
     "data": {
      "image/png": "[encoded data removed]",
      "text/plain": [
       "<Figure size 432x288 with 1 Axes>"
      ]
     },
     "metadata": {
      "needs_background": "light"
     },
     "output_type": "display_data"
    }
   ],
   "source": [
    "sns.distplot(data['avg_glucose_level'])\n",
    "# Distribution of avg_glucose_level"
   ]
  },
  {
   "cell_type": "code",
   "execution_count": 33,
   "id": "a81e00f1",
   "metadata": {},
   "outputs": [
    {
     "data": {
      "text/plain": [
       "<AxesSubplot:xlabel='stroke', ylabel='avg_glucose_level'>"
      ]
     },
     "execution_count": 33,
     "metadata": {},
     "output_type": "execute_result"
    },
    {
     "data": {
      "image/png": "[encoded data removed]",
      "text/plain": [
       "<Figure size 432x288 with 1 Axes>"
      ]
     },
     "metadata": {
      "needs_background": "light"
     },
     "output_type": "display_data"
    }
   ],
   "source": [
    "sns.boxplot(data=data,x='stroke',y='avg_glucose_level')\n",
    "# Avg_glucose_level and Stroke"
   ]
  },
  {
   "cell_type": "markdown",
   "id": "16f87b13",
   "metadata": {},
   "source": [
    "Observation:\n",
    "\n",
    "From this above graph, we can see that people having stroke have an average glucose level of more than 100.\n",
    "There are some obvious outliers in patients who have no stroke but there are some chances of this being genuine records."
   ]
  },
  {
   "cell_type": "markdown",
   "id": "b71b94f0",
   "metadata": {},
   "source": [
    "# Preproccessing"
   ]
  },
  {
   "cell_type": "code",
   "execution_count": 34,
   "id": "0aaa282f",
   "metadata": {},
   "outputs": [
    {
     "data": {
      "text/plain": [
       "0       36.600000\n",
       "1       29.065758\n",
       "2       32.500000\n",
       "3       34.400000\n",
       "4       24.000000\n",
       "          ...    \n",
       "5105    29.065758\n",
       "5106    40.000000\n",
       "5107    30.600000\n",
       "5108    25.600000\n",
       "5109    26.200000\n",
       "Name: bmi, Length: 5110, dtype: float64"
      ]
     },
     "execution_count": 34,
     "metadata": {},
     "output_type": "execute_result"
    }
   ],
   "source": [
    "d=data[\"bmi\"]\n",
    "d"
   ]
  },
  {
   "cell_type": "code",
   "execution_count": 35,
   "id": "a6857b45",
   "metadata": {},
   "outputs": [
    {
     "data": {
      "text/plain": [
       "0"
      ]
     },
     "execution_count": 35,
     "metadata": {},
     "output_type": "execute_result"
    }
   ],
   "source": [
    "d.isnull().sum()"
   ]
  },
  {
   "cell_type": "markdown",
   "id": "c1a4e00d",
   "metadata": {},
   "source": [
    "# BMI :\n",
    "Body Mass Index is a measure of body fat based on height and weight that applies to adult men and women. Let’s see how does it affect the chances of having a stroke."
   ]
  },
  {
   "cell_type": "code",
   "execution_count": 36,
   "id": "662ec5e3",
   "metadata": {},
   "outputs": [
    {
     "name": "stdout",
     "output_type": "stream",
     "text": [
      "male mean bmi: 28.64794 \n",
      "female mean bmi: 29.06576 \n"
     ]
    }
   ],
   "source": [
    "male_mean_bmi = data[data[\"gender\"]==\"Male\"][\"bmi\"].mean()\n",
    "female_mean_bmi = data[data[\"gender\"]==\"Female\"][\"bmi\"].mean()\n",
    "print(\"male mean bmi: %1.5f \" %male_mean_bmi)\n",
    "print(\"female mean bmi: %1.5f \" %female_mean_bmi)"
   ]
  },
  {
   "cell_type": "code",
   "execution_count": 37,
   "id": "8dd9cbab",
   "metadata": {},
   "outputs": [],
   "source": [
    "#fill missing value with mean value\n",
    "#df.bmi.fillna(value=df.bmi.mean(), inplace=True)\n",
    "data.loc[(data[\"gender\"]==\"Male\") & (data[\"bmi\"].isnull()), \"bmi\"]= male_mean_bmi\n",
    "data.loc[(data[\"gender\"]==\"Female\") & (data[\"bmi\"].isnull()), \"bmi\"]= female_mean_bmi"
   ]
  },
  {
   "cell_type": "code",
   "execution_count": 38,
   "id": "342ab675",
   "metadata": {},
   "outputs": [
    {
     "data": {
      "text/plain": [
       "<seaborn.axisgrid.FacetGrid at 0x13d3103dfa0>"
      ]
     },
     "execution_count": 38,
     "metadata": {},
     "output_type": "execute_result"
    },
    {
     "data": {
      "image/png": "[encoded data removed]",
      "text/plain": [
       "<Figure size 360x360 with 1 Axes>"
      ]
     },
     "metadata": {
      "needs_background": "light"
     },
     "output_type": "display_data"
    }
   ],
   "source": [
    "sns.displot(data['bmi'])\n",
    "# Distribution of bmi"
   ]
  },
  {
   "cell_type": "code",
   "execution_count": 39,
   "id": "15fb68ee",
   "metadata": {},
   "outputs": [
    {
     "data": {
      "text/plain": [
       "<AxesSubplot:xlabel='stroke', ylabel='bmi'>"
      ]
     },
     "execution_count": 39,
     "metadata": {},
     "output_type": "execute_result"
    },
    {
     "data": {
      "image/png": "[encoded data removed]",
      "text/plain": [
       "<Figure size 432x288 with 1 Axes>"
      ]
     },
     "metadata": {
      "needs_background": "light"
     },
     "output_type": "display_data"
    }
   ],
   "source": [
    "sns.boxplot(data=data,x='stroke',y='bmi')\n",
    "# BMI with respect to Stroke"
   ]
  },
  {
   "cell_type": "markdown",
   "id": "b0cd274f",
   "metadata": {},
   "source": [
    "Observation:\n",
    "\n",
    "There is as such no prominent observation of how does BMI affects the chances of having a stroke."
   ]
  },
  {
   "cell_type": "markdown",
   "id": "42b4d539",
   "metadata": {},
   "source": [
    "# Stroke :\n",
    "Our target variable. It tells us whether patients have chances of stroke."
   ]
  },
  {
   "cell_type": "code",
   "execution_count": 40,
   "id": "4a875876",
   "metadata": {},
   "outputs": [
    {
     "name": "stdout",
     "output_type": "stream",
     "text": [
      "Unique Value\n",
      " [1 0]\n"
     ]
    }
   ],
   "source": [
    "print('Unique Value\\n',data['stroke'].unique())"
   ]
  },
  {
   "cell_type": "code",
   "execution_count": 41,
   "id": "33d296aa",
   "metadata": {},
   "outputs": [
    {
     "name": "stdout",
     "output_type": "stream",
     "text": [
      "Value Counts\n",
      " 0    4861\n",
      "1     249\n",
      "Name: stroke, dtype: int64\n"
     ]
    }
   ],
   "source": [
    "print('Value Counts\\n',data['stroke'].value_counts())\n",
    "# Returns Unique Value and its count"
   ]
  },
  {
   "cell_type": "code",
   "execution_count": 42,
   "id": "d8a2f3ea",
   "metadata": {},
   "outputs": [
    {
     "data": {
      "text/plain": [
       "<AxesSubplot:xlabel='stroke', ylabel='count'>"
      ]
     },
     "execution_count": 42,
     "metadata": {},
     "output_type": "execute_result"
    },
    {
     "data": {
      "image/png": "[encoded data removed]",
      "text/plain": [
       "<Figure size 432x288 with 1 Axes>"
      ]
     },
     "metadata": {
      "needs_background": "light"
     },
     "output_type": "display_data"
    }
   ],
   "source": [
    "sns.countplot(data=data,x='stroke')\n",
    "# Count Plot of Stroke"
   ]
  },
  {
   "cell_type": "code",
   "execution_count": 43,
   "id": "dced48b0",
   "metadata": {},
   "outputs": [
    {
     "data": {
      "text/html": [
       "<div>\n",
       "<style scoped>\n",
       "    .dataframe tbody tr th:only-of-type {\n",
       "        vertical-align: middle;\n",
       "    }\n",
       "\n",
       "    .dataframe tbody tr th {\n",
       "        vertical-align: top;\n",
       "    }\n",
       "\n",
       "    .dataframe thead th {\n",
       "        text-align: right;\n",
       "    }\n",
       "</style>\n",
       "<table border=\"1\" class=\"dataframe\">\n",
       "  <thead>\n",
       "    <tr style=\"text-align: right;\">\n",
       "      <th></th>\n",
       "      <th>id</th>\n",
       "      <th>gender</th>\n",
       "      <th>age</th>\n",
       "      <th>hypertension</th>\n",
       "      <th>heart_disease</th>\n",
       "      <th>ever_married</th>\n",
       "      <th>work_type</th>\n",
       "      <th>Residence_type</th>\n",
       "      <th>avg_glucose_level</th>\n",
       "      <th>bmi</th>\n",
       "      <th>smoking_status</th>\n",
       "      <th>stroke</th>\n",
       "    </tr>\n",
       "  </thead>\n",
       "  <tbody>\n",
       "    <tr>\n",
       "      <th>1</th>\n",
       "      <td>51676</td>\n",
       "      <td>Female</td>\n",
       "      <td>61.0</td>\n",
       "      <td>0</td>\n",
       "      <td>0</td>\n",
       "      <td>Yes</td>\n",
       "      <td>Self-employed</td>\n",
       "      <td>Rural</td>\n",
       "      <td>202.21</td>\n",
       "      <td>29.065758</td>\n",
       "      <td>never smoked</td>\n",
       "      <td>1</td>\n",
       "    </tr>\n",
       "    <tr>\n",
       "      <th>3</th>\n",
       "      <td>60182</td>\n",
       "      <td>Female</td>\n",
       "      <td>49.0</td>\n",
       "      <td>0</td>\n",
       "      <td>0</td>\n",
       "      <td>Yes</td>\n",
       "      <td>Private</td>\n",
       "      <td>Urban</td>\n",
       "      <td>171.23</td>\n",
       "      <td>34.400000</td>\n",
       "      <td>smokes</td>\n",
       "      <td>1</td>\n",
       "    </tr>\n",
       "    <tr>\n",
       "      <th>4</th>\n",
       "      <td>1665</td>\n",
       "      <td>Female</td>\n",
       "      <td>79.0</td>\n",
       "      <td>1</td>\n",
       "      <td>0</td>\n",
       "      <td>Yes</td>\n",
       "      <td>Self-employed</td>\n",
       "      <td>Rural</td>\n",
       "      <td>174.12</td>\n",
       "      <td>24.000000</td>\n",
       "      <td>never smoked</td>\n",
       "      <td>1</td>\n",
       "    </tr>\n",
       "    <tr>\n",
       "      <th>7</th>\n",
       "      <td>10434</td>\n",
       "      <td>Female</td>\n",
       "      <td>69.0</td>\n",
       "      <td>0</td>\n",
       "      <td>0</td>\n",
       "      <td>No</td>\n",
       "      <td>Private</td>\n",
       "      <td>Urban</td>\n",
       "      <td>94.39</td>\n",
       "      <td>22.800000</td>\n",
       "      <td>never smoked</td>\n",
       "      <td>1</td>\n",
       "    </tr>\n",
       "    <tr>\n",
       "      <th>8</th>\n",
       "      <td>27419</td>\n",
       "      <td>Female</td>\n",
       "      <td>59.0</td>\n",
       "      <td>0</td>\n",
       "      <td>0</td>\n",
       "      <td>Yes</td>\n",
       "      <td>Private</td>\n",
       "      <td>Rural</td>\n",
       "      <td>76.15</td>\n",
       "      <td>29.065758</td>\n",
       "      <td>Unknown</td>\n",
       "      <td>1</td>\n",
       "    </tr>\n",
       "  </tbody>\n",
       "</table>\n",
       "</div>"
      ],
      "text/plain": [
       "      id  gender   age  hypertension  heart_disease ever_married  \\\n",
       "1  51676  Female  61.0             0              0          Yes   \n",
       "3  60182  Female  49.0             0              0          Yes   \n",
       "4   1665  Female  79.0             1              0          Yes   \n",
       "7  10434  Female  69.0             0              0           No   \n",
       "8  27419  Female  59.0             0              0          Yes   \n",
       "\n",
       "       work_type Residence_type  avg_glucose_level        bmi smoking_status  \\\n",
       "1  Self-employed          Rural             202.21  29.065758   never smoked   \n",
       "3        Private          Urban             171.23  34.400000         smokes   \n",
       "4  Self-employed          Rural             174.12  24.000000   never smoked   \n",
       "7        Private          Urban              94.39  22.800000   never smoked   \n",
       "8        Private          Rural              76.15  29.065758        Unknown   \n",
       "\n",
       "   stroke  \n",
       "1       1  \n",
       "3       1  \n",
       "4       1  \n",
       "7       1  \n",
       "8       1  "
      ]
     },
     "execution_count": 43,
     "metadata": {},
     "output_type": "execute_result"
    }
   ],
   "source": [
    "data.loc[data[\"gender\"]==\"Female\"].head()"
   ]
  },
  {
   "cell_type": "code",
   "execution_count": 44,
   "id": "76141ef5",
   "metadata": {},
   "outputs": [
    {
     "data": {
      "text/html": [
       "<div>\n",
       "<style scoped>\n",
       "    .dataframe tbody tr th:only-of-type {\n",
       "        vertical-align: middle;\n",
       "    }\n",
       "\n",
       "    .dataframe tbody tr th {\n",
       "        vertical-align: top;\n",
       "    }\n",
       "\n",
       "    .dataframe thead th {\n",
       "        text-align: right;\n",
       "    }\n",
       "</style>\n",
       "<table border=\"1\" class=\"dataframe\">\n",
       "  <thead>\n",
       "    <tr style=\"text-align: right;\">\n",
       "      <th></th>\n",
       "      <th>id</th>\n",
       "      <th>gender</th>\n",
       "      <th>age</th>\n",
       "      <th>hypertension</th>\n",
       "      <th>heart_disease</th>\n",
       "      <th>ever_married</th>\n",
       "      <th>work_type</th>\n",
       "      <th>Residence_type</th>\n",
       "      <th>avg_glucose_level</th>\n",
       "      <th>bmi</th>\n",
       "      <th>smoking_status</th>\n",
       "      <th>stroke</th>\n",
       "    </tr>\n",
       "  </thead>\n",
       "  <tbody>\n",
       "    <tr>\n",
       "      <th>0</th>\n",
       "      <td>9046</td>\n",
       "      <td>Male</td>\n",
       "      <td>67.0</td>\n",
       "      <td>0</td>\n",
       "      <td>1</td>\n",
       "      <td>Yes</td>\n",
       "      <td>Private</td>\n",
       "      <td>Urban</td>\n",
       "      <td>228.69</td>\n",
       "      <td>36.600000</td>\n",
       "      <td>formerly smoked</td>\n",
       "      <td>1</td>\n",
       "    </tr>\n",
       "    <tr>\n",
       "      <th>2</th>\n",
       "      <td>31112</td>\n",
       "      <td>Male</td>\n",
       "      <td>80.0</td>\n",
       "      <td>0</td>\n",
       "      <td>1</td>\n",
       "      <td>Yes</td>\n",
       "      <td>Private</td>\n",
       "      <td>Rural</td>\n",
       "      <td>105.92</td>\n",
       "      <td>32.500000</td>\n",
       "      <td>never smoked</td>\n",
       "      <td>1</td>\n",
       "    </tr>\n",
       "    <tr>\n",
       "      <th>5</th>\n",
       "      <td>56669</td>\n",
       "      <td>Male</td>\n",
       "      <td>81.0</td>\n",
       "      <td>0</td>\n",
       "      <td>0</td>\n",
       "      <td>Yes</td>\n",
       "      <td>Private</td>\n",
       "      <td>Urban</td>\n",
       "      <td>186.21</td>\n",
       "      <td>29.000000</td>\n",
       "      <td>formerly smoked</td>\n",
       "      <td>1</td>\n",
       "    </tr>\n",
       "    <tr>\n",
       "      <th>6</th>\n",
       "      <td>53882</td>\n",
       "      <td>Male</td>\n",
       "      <td>74.0</td>\n",
       "      <td>1</td>\n",
       "      <td>1</td>\n",
       "      <td>Yes</td>\n",
       "      <td>Private</td>\n",
       "      <td>Rural</td>\n",
       "      <td>70.09</td>\n",
       "      <td>27.400000</td>\n",
       "      <td>never smoked</td>\n",
       "      <td>1</td>\n",
       "    </tr>\n",
       "    <tr>\n",
       "      <th>13</th>\n",
       "      <td>8213</td>\n",
       "      <td>Male</td>\n",
       "      <td>78.0</td>\n",
       "      <td>0</td>\n",
       "      <td>1</td>\n",
       "      <td>Yes</td>\n",
       "      <td>Private</td>\n",
       "      <td>Urban</td>\n",
       "      <td>219.84</td>\n",
       "      <td>28.647936</td>\n",
       "      <td>Unknown</td>\n",
       "      <td>1</td>\n",
       "    </tr>\n",
       "  </tbody>\n",
       "</table>\n",
       "</div>"
      ],
      "text/plain": [
       "       id gender   age  hypertension  heart_disease ever_married work_type  \\\n",
       "0    9046   Male  67.0             0              1          Yes   Private   \n",
       "2   31112   Male  80.0             0              1          Yes   Private   \n",
       "5   56669   Male  81.0             0              0          Yes   Private   \n",
       "6   53882   Male  74.0             1              1          Yes   Private   \n",
       "13   8213   Male  78.0             0              1          Yes   Private   \n",
       "\n",
       "   Residence_type  avg_glucose_level        bmi   smoking_status  stroke  \n",
       "0           Urban             228.69  36.600000  formerly smoked       1  \n",
       "2           Rural             105.92  32.500000     never smoked       1  \n",
       "5           Urban             186.21  29.000000  formerly smoked       1  \n",
       "6           Rural              70.09  27.400000     never smoked       1  \n",
       "13          Urban             219.84  28.647936          Unknown       1  "
      ]
     },
     "execution_count": 44,
     "metadata": {},
     "output_type": "execute_result"
    }
   ],
   "source": [
    "data.loc[data[\"gender\"]==\"Male\"].head()"
   ]
  },
  {
   "cell_type": "code",
   "execution_count": 45,
   "id": "bb63941d",
   "metadata": {},
   "outputs": [
    {
     "name": "stdout",
     "output_type": "stream",
     "text": [
      "Categorical columns that will be ordinal encoded: ['gender', 'ever_married', 'work_type', 'Residence_type', 'smoking_status']\n"
     ]
    }
   ],
   "source": [
    "# Categorical columns in the training data\n",
    "object_cols = [col for col in data.columns if data[col].dtype == \"object\"]\n",
    "print('Categorical columns that will be ordinal encoded:', object_cols)"
   ]
  },
  {
   "cell_type": "code",
   "execution_count": 46,
   "id": "06e58851",
   "metadata": {},
   "outputs": [
    {
     "data": {
      "text/plain": [
       "[('ever_married', 2),\n",
       " ('Residence_type', 2),\n",
       " ('gender', 3),\n",
       " ('smoking_status', 4),\n",
       " ('work_type', 5)]"
      ]
     },
     "execution_count": 46,
     "metadata": {},
     "output_type": "execute_result"
    }
   ],
   "source": [
    "# Get number of unique entries in each column with categorical data\n",
    "object_nunique = list(map(lambda col: data[col].nunique(), object_cols))\n",
    "d = dict(zip(object_cols, object_nunique))\n",
    "# Print number of unique entries by column, in ascending order\n",
    "sorted(d.items(), key=lambda x: x[1])"
   ]
  },
  {
   "cell_type": "code",
   "execution_count": 47,
   "id": "7bed72cd",
   "metadata": {},
   "outputs": [],
   "source": [
    "from sklearn.preprocessing import OrdinalEncoder\n",
    "from sklearn.naive_bayes import GaussianNB"
   ]
  },
  {
   "cell_type": "code",
   "execution_count": 48,
   "id": "2a33f823",
   "metadata": {},
   "outputs": [],
   "source": [
    "ordinal_encoder=OrdinalEncoder()\n",
    "data[object_cols]=ordinal_encoder.fit_transform(data[object_cols])"
   ]
  },
  {
   "cell_type": "code",
   "execution_count": 49,
   "id": "d5e65796",
   "metadata": {},
   "outputs": [
    {
     "data": {
      "text/plain": [
       "0       1\n",
       "1       1\n",
       "2       1\n",
       "3       1\n",
       "4       1\n",
       "       ..\n",
       "5105    0\n",
       "5106    0\n",
       "5107    0\n",
       "5108    0\n",
       "5109    0\n",
       "Name: stroke, Length: 5110, dtype: int64"
      ]
     },
     "execution_count": 49,
     "metadata": {},
     "output_type": "execute_result"
    }
   ],
   "source": [
    "target=data[\"stroke\"]\n",
    "target\n"
   ]
  },
  {
   "cell_type": "code",
   "execution_count": 50,
   "id": "ce90c931",
   "metadata": {},
   "outputs": [],
   "source": [
    "X = data.drop('stroke', axis=1)\n",
    "y = data['stroke']"
   ]
  },
  {
   "cell_type": "markdown",
   "id": "d0380cd5",
   "metadata": {},
   "source": [
    "# Balancing Dataset\n",
    "As we know, our dataset is imbalanced. So let’s balance our data. We are going to use SMOTE method for this. It will populate our data with records similar to our minor class. Usually, we perform this on the whole dataset but as we have very fewer records of minor class I am applying it on both train and test data. Earlier I tried doing it by just resampling data of the training dataset but it didn’t perform that well so I tried this approach and got a good result."
   ]
  },
  {
   "cell_type": "code",
   "execution_count": 51,
   "id": "34b93aa7",
   "metadata": {},
   "outputs": [],
   "source": [
    "X = data.drop('stroke', axis=1)\n",
    "y = data['stroke']"
   ]
  },
  {
   "cell_type": "code",
   "execution_count": 52,
   "id": "26182df7",
   "metadata": {},
   "outputs": [],
   "source": [
    "from imblearn.over_sampling import SMOTE\n",
    "#Oversampling the data\n",
    "smote = SMOTE()\n",
    "X_SMOTE, y_SMOTE = smote.fit_resample(X, y)"
   ]
  },
  {
   "cell_type": "code",
   "execution_count": 53,
   "id": "4f2ae7dd",
   "metadata": {},
   "outputs": [
    {
     "name": "stderr",
     "output_type": "stream",
     "text": [
      "C:\\Users\\Admin\\anaconda3\\lib\\site-packages\\seaborn\\_decorators.py:36: FutureWarning: Pass the following variable as a keyword arg: x. From version 0.12, the only valid positional argument will be `data`, and passing other arguments without an explicit keyword will result in an error or misinterpretation.\n",
      "  warnings.warn(\n"
     ]
    },
    {
     "data": {
      "image/png": "[encoded data removed]",
      "text/plain": [
       "<Figure size 432x288 with 1 Axes>"
      ]
     },
     "metadata": {
      "needs_background": "light"
     },
     "output_type": "display_data"
    }
   ],
   "source": [
    "sns.countplot(y_SMOTE, label=\"Count\")\n",
    "plt.show()"
   ]
  },
  {
   "cell_type": "markdown",
   "id": "67e5b568",
   "metadata": {},
   "source": [
    "# Model Creation\n",
    "Let’s start with creating models. I have created few models namely,Decision tree, Random Forest Classifier,KNN, and Naive Bayes model and scv model. "
   ]
  },
  {
   "cell_type": "code",
   "execution_count": 54,
   "id": "f1a66871",
   "metadata": {},
   "outputs": [],
   "source": [
    "from sklearn.model_selection import cross_val_predict\n",
    "from sklearn.feature_selection import mutual_info_classif\n",
    "from sklearn.tree import DecisionTreeClassifier as dtc\n",
    "from sklearn.metrics import classification_report\n",
    "from sklearn.model_selection import cross_val_predict\n",
    "from sklearn.ensemble import RandomForestClassifier\n",
    "from sklearn.neighbors import KNeighborsClassifier\n",
    "\n"
   ]
  },
  {
   "cell_type": "code",
   "execution_count": 76,
   "id": "06ea8f18",
   "metadata": {},
   "outputs": [
    {
     "data": {
      "text/html": [
       "<style>#sk-container-id-6 {color: black;background-color: white;}#sk-container-id-6 pre{padding: 0;}#sk-container-id-6 div.sk-toggleable {background-color: white;}#sk-container-id-6 label.sk-toggleable__label {cursor: pointer;display: block;width: 100%;margin-bottom: 0;padding: 0.3em;box-sizing: border-box;text-align: center;}#sk-container-id-6 label.sk-toggleable__label-arrow:before {content: \"▸\";float: left;margin-right: 0.25em;color: #696969;}#sk-container-id-6 label.sk-toggleable__label-arrow:hover:before {color: black;}#sk-container-id-6 div.sk-estimator:hover label.sk-toggleable__label-arrow:before {color: black;}#sk-container-id-6 div.sk-toggleable__content {max-height: 0;max-width: 0;overflow: hidden;text-align: left;background-color: #f0f8ff;}#sk-container-id-6 div.sk-toggleable__content pre {margin: 0.2em;color: black;border-radius: 0.25em;background-color: #f0f8ff;}#sk-container-id-6 input.sk-toggleable__control:checked~div.sk-toggleable__content {max-height: 200px;max-width: 100%;overflow: auto;}#sk-container-id-6 input.sk-toggleable__control:checked~label.sk-toggleable__label-arrow:before {content: \"▾\";}#sk-container-id-6 div.sk-estimator input.sk-toggleable__control:checked~label.sk-toggleable__label {background-color: #d4ebff;}#sk-container-id-6 div.sk-label input.sk-toggleable__control:checked~label.sk-toggleable__label {background-color: #d4ebff;}#sk-container-id-6 input.sk-hidden--visually {border: 0;clip: rect(1px 1px 1px 1px);clip: rect(1px, 1px, 1px, 1px);height: 1px;margin: -1px;overflow: hidden;padding: 0;position: absolute;width: 1px;}#sk-container-id-6 div.sk-estimator {font-family: monospace;background-color: #f0f8ff;border: 1px dotted black;border-radius: 0.25em;box-sizing: border-box;margin-bottom: 0.5em;}#sk-container-id-6 div.sk-estimator:hover {background-color: #d4ebff;}#sk-container-id-6 div.sk-parallel-item::after {content: \"\";width: 100%;border-bottom: 1px solid gray;flex-grow: 1;}#sk-container-id-6 div.sk-label:hover label.sk-toggleable__label {background-color: #d4ebff;}#sk-container-id-6 div.sk-serial::before {content: \"\";position: absolute;border-left: 1px solid gray;box-sizing: border-box;top: 0;bottom: 0;left: 50%;z-index: 0;}#sk-container-id-6 div.sk-serial {display: flex;flex-direction: column;align-items: center;background-color: white;padding-right: 0.2em;padding-left: 0.2em;position: relative;}#sk-container-id-6 div.sk-item {position: relative;z-index: 1;}#sk-container-id-6 div.sk-parallel {display: flex;align-items: stretch;justify-content: center;background-color: white;position: relative;}#sk-container-id-6 div.sk-item::before, #sk-container-id-6 div.sk-parallel-item::before {content: \"\";position: absolute;border-left: 1px solid gray;box-sizing: border-box;top: 0;bottom: 0;left: 50%;z-index: -1;}#sk-container-id-6 div.sk-parallel-item {display: flex;flex-direction: column;z-index: 1;position: relative;background-color: white;}#sk-container-id-6 div.sk-parallel-item:first-child::after {align-self: flex-end;width: 50%;}#sk-container-id-6 div.sk-parallel-item:last-child::after {align-self: flex-start;width: 50%;}#sk-container-id-6 div.sk-parallel-item:only-child::after {width: 0;}#sk-container-id-6 div.sk-dashed-wrapped {border: 1px dashed gray;margin: 0 0.4em 0.5em 0.4em;box-sizing: border-box;padding-bottom: 0.4em;background-color: white;}#sk-container-id-6 div.sk-label label {font-family: monospace;font-weight: bold;display: inline-block;line-height: 1.2em;}#sk-container-id-6 div.sk-label-container {text-align: center;}#sk-container-id-6 div.sk-container {/* jupyter's `normalize.less` sets `[hidden] { display: none; }` but bootstrap.min.css set `[hidden] { display: none !important; }` so we also need the `!important` here to be able to override the default hidden behavior on the sphinx rendered scikit-learn.org. See: https://github.com/scikit-learn/scikit-learn/issues/21755 */display: inline-block !important;position: relative;}#sk-container-id-6 div.sk-text-repr-fallback {display: none;}</style><div id=\"sk-container-id-6\" class=\"sk-top-container\"><div class=\"sk-text-repr-fallback\"><pre>GaussianNB()</pre><b>In a Jupyter environment, please rerun this cell to show the HTML representation or trust the notebook. <br />On GitHub, the HTML representation is unable to render, please try loading this page with nbviewer.org.</b></div><div class=\"sk-container\" hidden><div class=\"sk-item\"><div class=\"sk-estimator sk-toggleable\"><input class=\"sk-toggleable__control sk-hidden--visually\" id=\"sk-estimator-id-6\" type=\"checkbox\" checked><label for=\"sk-estimator-id-6\" class=\"sk-toggleable__label sk-toggleable__label-arrow\">GaussianNB</label><div class=\"sk-toggleable__content\"><pre>GaussianNB()</pre></div></div></div></div></div>"
      ],
      "text/plain": [
       "GaussianNB()"
      ]
     },
     "execution_count": 76,
     "metadata": {},
     "output_type": "execute_result"
    }
   ],
   "source": [
    "#building decision tree model\n",
    "decision_tree = dtc(random_state=0)\n",
    "decision_tree.fit(X_SMOTE, y_SMOTE)\n",
    "\n",
    "#building Random Forest model\n",
    "random_forest = RandomForestClassifier(random_state = 0)\n",
    "random_forest.fit(X_SMOTE, y_SMOTE)\n",
    "\n",
    "#building KNN model\n",
    "knn = KNeighborsClassifier()\n",
    "knn.fit(X_SMOTE, y_SMOTE)\n",
    "\n",
    "#building Naive Bayes model\n",
    "gnb = GaussianNB()\n",
    "gnb.fit(X_SMOTE, y_SMOTE)\n",
    "\n"
   ]
  },
  {
   "cell_type": "markdown",
   "id": "7bf7c93a",
   "metadata": {},
   "source": [
    "# Model Evaluation"
   ]
  },
  {
   "cell_type": "code",
   "execution_count": 77,
   "id": "b2b7a376",
   "metadata": {},
   "outputs": [
    {
     "name": "stdout",
     "output_type": "stream",
     "text": [
      "Classification Report: \n",
      "               precision    recall  f1-score   support\n",
      "\n",
      "           0       0.94      0.93      0.93      4861\n",
      "           1       0.93      0.94      0.94      4861\n",
      "\n",
      "    accuracy                           0.93      9722\n",
      "   macro avg       0.93      0.93      0.93      9722\n",
      "weighted avg       0.93      0.93      0.93      9722\n",
      "\n"
     ]
    }
   ],
   "source": [
    "#evaluation decision tree model\n",
    "predict = cross_val_predict(estimator = decision_tree, X = X_SMOTE, y = y_SMOTE, cv = 10)\n",
    "print(\"Classification Report: \\n\",classification_report(y_SMOTE, predict))"
   ]
  },
  {
   "cell_type": "code",
   "execution_count": 78,
   "id": "317050d5",
   "metadata": {},
   "outputs": [
    {
     "name": "stdout",
     "output_type": "stream",
     "text": [
      "Classification Report: \n",
      "               precision    recall  f1-score   support\n",
      "\n",
      "           0       0.95      0.99      0.97      4861\n",
      "           1       0.99      0.95      0.97      4861\n",
      "\n",
      "    accuracy                           0.97      9722\n",
      "   macro avg       0.97      0.97      0.97      9722\n",
      "weighted avg       0.97      0.97      0.97      9722\n",
      "\n"
     ]
    }
   ],
   "source": [
    "#evaluation Random Forest model\n",
    "predict = cross_val_predict(estimator = random_forest, X = X_SMOTE, y = y_SMOTE, cv = 10)\n",
    "print(\"Classification Report: \\n\",classification_report(y_SMOTE, predict))"
   ]
  },
  {
   "cell_type": "code",
   "execution_count": 79,
   "id": "18dd611b",
   "metadata": {},
   "outputs": [
    {
     "name": "stdout",
     "output_type": "stream",
     "text": [
      "Classification Report: \n",
      "               precision    recall  f1-score   support\n",
      "\n",
      "           0       0.84      0.74      0.79      4861\n",
      "           1       0.77      0.86      0.81      4861\n",
      "\n",
      "    accuracy                           0.80      9722\n",
      "   macro avg       0.80      0.80      0.80      9722\n",
      "weighted avg       0.80      0.80      0.80      9722\n",
      "\n"
     ]
    }
   ],
   "source": [
    "#evaluation KNN model\n",
    "predict = cross_val_predict(estimator = knn, X = X_SMOTE, y = y_SMOTE, cv = 10)\n",
    "print(\"Classification Report: \\n\",classification_report(y_SMOTE, predict))"
   ]
  },
  {
   "cell_type": "code",
   "execution_count": 80,
   "id": "259b0900",
   "metadata": {},
   "outputs": [
    {
     "name": "stdout",
     "output_type": "stream",
     "text": [
      "Classification Report: \n",
      "               precision    recall  f1-score   support\n",
      "\n",
      "           0       0.90      0.65      0.76      4861\n",
      "           1       0.73      0.93      0.82      4861\n",
      "\n",
      "    accuracy                           0.79      9722\n",
      "   macro avg       0.81      0.79      0.79      9722\n",
      "weighted avg       0.81      0.79      0.79      9722\n",
      "\n"
     ]
    }
   ],
   "source": [
    "#evaluation Naive Bayes model\n",
    "predict = cross_val_predict(estimator = gnb, X = X_SMOTE, y = y_SMOTE, cv = 10)\n",
    "print(\"Classification Report: \\n\",classification_report(y_SMOTE, predict))"
   ]
  },
  {
   "cell_type": "markdown",
   "id": "efcd20bb",
   "metadata": {},
   "source": [
    "we will check our features using SelectKBest and F_Classif. :-"
   ]
  },
  {
   "cell_type": "code",
   "execution_count": 81,
   "id": "8a077f62",
   "metadata": {},
   "outputs": [],
   "source": [
    "from sklearn.feature_selection import SelectKBest, f_classif"
   ]
  },
  {
   "cell_type": "code",
   "execution_count": 82,
   "id": "a33abfe2",
   "metadata": {},
   "outputs": [
    {
     "data": {
      "text/html": [
       "<div>\n",
       "<style scoped>\n",
       "    .dataframe tbody tr th:only-of-type {\n",
       "        vertical-align: middle;\n",
       "    }\n",
       "\n",
       "    .dataframe tbody tr th {\n",
       "        vertical-align: top;\n",
       "    }\n",
       "\n",
       "    .dataframe thead th {\n",
       "        text-align: right;\n",
       "    }\n",
       "</style>\n",
       "<table border=\"1\" class=\"dataframe\">\n",
       "  <thead>\n",
       "    <tr style=\"text-align: right;\">\n",
       "      <th></th>\n",
       "      <th>Attribute</th>\n",
       "      <th>Score</th>\n",
       "    </tr>\n",
       "  </thead>\n",
       "  <tbody>\n",
       "    <tr>\n",
       "      <th>2</th>\n",
       "      <td>age</td>\n",
       "      <td>326.916568</td>\n",
       "    </tr>\n",
       "    <tr>\n",
       "      <th>4</th>\n",
       "      <td>heart_disease</td>\n",
       "      <td>94.698406</td>\n",
       "    </tr>\n",
       "    <tr>\n",
       "      <th>8</th>\n",
       "      <td>avg_glucose_level</td>\n",
       "      <td>90.503870</td>\n",
       "    </tr>\n",
       "    <tr>\n",
       "      <th>3</th>\n",
       "      <td>hypertension</td>\n",
       "      <td>84.953542</td>\n",
       "    </tr>\n",
       "    <tr>\n",
       "      <th>5</th>\n",
       "      <td>ever_married</td>\n",
       "      <td>60.667230</td>\n",
       "    </tr>\n",
       "    <tr>\n",
       "      <th>9</th>\n",
       "      <td>bmi</td>\n",
       "      <td>7.730817</td>\n",
       "    </tr>\n",
       "    <tr>\n",
       "      <th>6</th>\n",
       "      <td>work_type</td>\n",
       "      <td>5.340019</td>\n",
       "    </tr>\n",
       "    <tr>\n",
       "      <th>10</th>\n",
       "      <td>smoking_status</td>\n",
       "      <td>4.043033</td>\n",
       "    </tr>\n",
       "    <tr>\n",
       "      <th>7</th>\n",
       "      <td>Residence_type</td>\n",
       "      <td>1.220842</td>\n",
       "    </tr>\n",
       "    <tr>\n",
       "      <th>1</th>\n",
       "      <td>gender</td>\n",
       "      <td>0.407266</td>\n",
       "    </tr>\n",
       "    <tr>\n",
       "      <th>0</th>\n",
       "      <td>id</td>\n",
       "      <td>0.208459</td>\n",
       "    </tr>\n",
       "  </tbody>\n",
       "</table>\n",
       "</div>"
      ],
      "text/plain": [
       "            Attribute       Score\n",
       "2                 age  326.916568\n",
       "4       heart_disease   94.698406\n",
       "8   avg_glucose_level   90.503870\n",
       "3        hypertension   84.953542\n",
       "5        ever_married   60.667230\n",
       "9                 bmi    7.730817\n",
       "6           work_type    5.340019\n",
       "10     smoking_status    4.043033\n",
       "7      Residence_type    1.220842\n",
       "1              gender    0.407266\n",
       "0                  id    0.208459"
      ]
     },
     "execution_count": 82,
     "metadata": {},
     "output_type": "execute_result"
    }
   ],
   "source": [
    "classifier = SelectKBest(score_func=f_classif,k=5)\n",
    "fits = classifier.fit(data.drop('stroke',axis=1),data['stroke'])\n",
    "x=pd.DataFrame(fits.scores_)\n",
    "columns = pd.DataFrame(data.drop('stroke',axis=1).columns)\n",
    "fscores = pd.concat([columns,x],axis=1)\n",
    "fscores.columns = ['Attribute','Score']\n",
    "fscores.sort_values(by='Score',ascending=False)\n"
   ]
  },
  {
   "cell_type": "markdown",
   "id": "6e6b9085",
   "metadata": {},
   "source": [
    "In the above result, we can see that age is a highly correlated variable and then it gets decreasing. I am keeping the threshold score as 50. Resulting in the same features we got in the heatmap."
   ]
  },
  {
   "cell_type": "code",
   "execution_count": 83,
   "id": "6b1be568",
   "metadata": {},
   "outputs": [
    {
     "name": "stdout",
     "output_type": "stream",
     "text": [
      "2                  age\n",
      "3         hypertension\n",
      "4        heart_disease\n",
      "5         ever_married\n",
      "8    avg_glucose_level\n",
      "Name: Attribute, dtype: object\n"
     ]
    }
   ],
   "source": [
    "cols=fscores[fscores['Score']>50]['Attribute']\n",
    "print(cols)"
   ]
  },
  {
   "cell_type": "code",
   "execution_count": 84,
   "id": "f5f258e1",
   "metadata": {},
   "outputs": [
    {
     "data": {
      "text/plain": [
       "<AxesSubplot:>"
      ]
     },
     "execution_count": 84,
     "metadata": {},
     "output_type": "execute_result"
    },
    {
     "data": {
      "image/png": "[encoded data removed]",
      "text/plain": [
       "<Figure size 1080x720 with 2 Axes>"
      ]
     },
     "metadata": {
      "needs_background": "light"
     },
     "output_type": "display_data"
    }
   ],
   "source": [
    "plt.figure(figsize=(15,10))\n",
    "sns.heatmap(data.corr(),annot=True,fmt='.2')"
   ]
  },
  {
   "cell_type": "markdown",
   "id": "def982d0",
   "metadata": {},
   "source": [
    "Observation:\n",
    "\n",
    "Variables that are showing some effective correlation are:\n",
    "\n",
    "age, hypertension, heart_disease, ever_married, avg_glucose_level.\n"
   ]
  },
  {
   "cell_type": "markdown",
   "id": "2a5f3da8",
   "metadata": {},
   "source": [
    "# Closure\n",
    "So in this project, we saw some of the factors that might result in strokes. Where Age was highly correlated followed by hypertension, heart disease, avg glucose level, and ever married.\n",
    "Random forest model  was a knight who performed well with 97 of accuracy. There are outliers in some variable, reason behind why I kept it as it is because these things are either depends on other factors and there are possibilities of having such kind of records. For example, BMI can be high and still no stroke as a person is young or he does not have any heart disease."
   ]
  }
 ],
 "metadata": {
  "kernelspec": {
   "display_name": "Python 3 (ipykernel)",
   "language": "python",
   "name": "python3"
  },
  "language_info": {
   "codemirror_mode": {
    "name": "ipython",
    "version": 3
   },
   "file_extension": ".py",
   "mimetype": "text/x-python",
   "name": "python",
   "nbconvert_exporter": "python",
   "pygments_lexer": "ipython3",
   "version": "3.9.7"
  }
 },
 "nbformat": 4,
 "nbformat_minor": 5
}
